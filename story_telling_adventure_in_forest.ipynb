{
 "cells": [
  {
   "cell_type": "markdown",
   "metadata": {},
   "source": [
    "# Adventure in the Forest\n",
    "\n",
    "In this notebook, we'll create a delightful story about a duck and a cat going on an adventure in the forest. They'll meet, make friends, and discover an ice cream stand!"
   ]
  },
  {
   "cell_type": "markdown",
   "metadata": {},
   "source": [
    "## Import necessary libraries\n",
    "\n",
    "We'll use `matplotlib` to create illustrations for our story."
   ]
  },
  {
   "cell_type": "code",
   "execution_count": 1,
   "metadata": {
    "execution": {
     "iopub.execute_input": "2024-10-27T12:15:39.867528Z",
     "iopub.status.busy": "2024-10-27T12:15:39.867339Z",
     "iopub.status.idle": "2024-10-27T12:15:42.783387Z",
     "shell.execute_reply": "2024-10-27T12:15:42.782802Z"
    }
   },
   "outputs": [],
   "source": [
    "import matplotlib.pyplot as plt\n",
    "import numpy as np"
   ]
  },
  {
   "cell_type": "markdown",
   "metadata": {},
   "source": [
    "## Creating the first scene: Duck and Cat Meeting\n",
    "\n",
    "Let's draw a simple illustration of our duck and cat meeting in the forest."
   ]
  },
  {
   "cell_type": "code",
   "execution_count": 2,
   "metadata": {
    "execution": {
     "iopub.execute_input": "2024-10-27T12:15:42.785765Z",
     "iopub.status.busy": "2024-10-27T12:15:42.785294Z",
     "iopub.status.idle": "2024-10-27T12:15:42.859377Z",
     "shell.execute_reply": "2024-10-27T12:15:42.858703Z"
    }
   },
   "outputs": [
    {
     "data": {
      "image/png": "[encoded data removed]",
      "text/plain": [
       "<Figure size 640x480 with 1 Axes>"
      ]
     },
     "metadata": {},
     "output_type": "display_data"
    }
   ],
   "source": [
    "def draw_meeting_scene():\n",
    "    fig, ax = plt.subplots()\n",
    "    ax.set_xlim(0, 10)\n",
    "    ax.set_ylim(0, 10)\n",
    "    # Draw the duck\n",
    "    duck = plt.Circle((3, 5), 0.5, color='yellow')\n",
    "    ax.add_patch(duck)\n",
    "    # Draw the cat\n",
    "    cat = plt.Rectangle((6, 4.5), 1, 1, color='gray')\n",
    "    ax.add_patch(cat)\n",
    "    # Add text\n",
    "    plt.text(2.5, 6, 'Duck', fontsize=12)\n",
    "    plt.text(6.5, 6, 'Cat', fontsize=12)\n",
    "    plt.title('Duck and Cat Meeting')\n",
    "    # Hide axes\n",
    "    ax.set_xticks([])\n",
    "    ax.set_yticks([])\n",
    "    return fig\n",
    "\n",
    "fig1 = draw_meeting_scene()\n",
    "fig1.savefig('duck_cat_meeting.png')"
   ]
  },
  {
   "cell_type": "markdown",
   "metadata": {},
   "source": [
    "## Story Text: Duck and Cat Meeting\n",
    "\n",
    "Now, let's write the text for the scene."
   ]
  },
  {
   "cell_type": "code",
   "execution_count": 3,
   "metadata": {
    "execution": {
     "iopub.execute_input": "2024-10-27T12:15:42.896128Z",
     "iopub.status.busy": "2024-10-27T12:15:42.895719Z",
     "iopub.status.idle": "2024-10-27T12:15:42.899080Z",
     "shell.execute_reply": "2024-10-27T12:15:42.898585Z"
    }
   },
   "outputs": [],
   "source": [
    "story_text_1 = \"\"\"\n",
    "Once upon a time, in a lush green forest, there lived a little yellow duck named Daisy. One sunny morning, Daisy was searching for some delicious food. As she waddled along, she met a friendly gray cat named Whiskers. 'Hello!' quacked Daisy. 'Hello!' purred Whiskers. And just like that, a wonderful adventure began!\n",
    "\"\"\"\n",
    "\n",
    "with open('story_text_1.txt', 'w') as f:\n",
    "    f.write(story_text_1)"
   ]
  },
  {
   "cell_type": "markdown",
   "metadata": {},
   "source": [
    "## Creating the second scene: Ice Cream Stand\n",
    "\n",
    "Let's draw an illustration of the ice cream stand where Daisy and Whiskers end their adventure."
   ]
  },
  {
   "cell_type": "code",
   "execution_count": 4,
   "metadata": {
    "execution": {
     "iopub.execute_input": "2024-10-27T12:15:42.900873Z",
     "iopub.status.busy": "2024-10-27T12:15:42.900536Z",
     "iopub.status.idle": "2024-10-27T12:15:42.953870Z",
     "shell.execute_reply": "2024-10-27T12:15:42.953271Z"
    }
   },
   "outputs": [
    {
     "data": {
      "image/png": "[encoded data removed]",
      "text/plain": [
       "<Figure size 640x480 with 1 Axes>"
      ]
     },
     "metadata": {},
     "output_type": "display_data"
    }
   ],
   "source": [
    "def draw_ice_cream_scene():\n",
    "    fig, ax = plt.subplots()\n",
    "    ax.set_xlim(0, 10)\n",
    "    ax.set_ylim(0, 10)\n",
    "    # Draw the ice cream stand\n",
    "    stand = plt.Rectangle((4, 3), 3, 2, color='pink')\n",
    "    ax.add_patch(stand)\n",
    "    # Add text\n",
    "    plt.text(4.5, 5.5, 'Ice Cream Stand', fontsize=12)\n",
    "    plt.title('Ice Cream Adventure')\n",
    "    # Hide axes\n",
    "    ax.set_xticks([])\n",
    "    ax.set_yticks([])\n",
    "    return fig\n",
    "\n",
    "fig2 = draw_ice_cream_scene()\n",
    "fig2.savefig('ice_cream_adventure.png')"
   ]
  },
  {
   "cell_type": "markdown",
   "metadata": {},
   "source": [
    "## Story Text: Ice Cream Adventure\n",
    "\n",
    "Now, we will write the text for the conclusion of the adventure."
   ]
  },
  {
   "cell_type": "code",
   "execution_count": 5,
   "metadata": {
    "execution": {
     "iopub.execute_input": "2024-10-27T12:15:42.955815Z",
     "iopub.status.busy": "2024-10-27T12:15:42.955441Z",
     "iopub.status.idle": "2024-10-27T12:15:42.958721Z",
     "shell.execute_reply": "2024-10-27T12:15:42.958237Z"
    }
   },
   "outputs": [],
   "source": [
    "story_text_2 = \"\"\"\n",
    "Daisy and Whiskers walked through the forest together, sharing stories and laughter. Suddenly, they stumbled upon a colorful ice cream stand. 'Yum!' said Daisy and Whiskers in unison. They each enjoyed a big scoop of their favorite flavor, and from that day on, they knew they would always be friends. The end.\n",
    "\"\"\"\n",
    "\n",
    "with open('story_text_2.txt', 'w') as f:\n",
    "    f.write(story_text_2)"
   ]
  }
 ],
 "metadata": {
  "language_info": {
   "codemirror_mode": {
    "name": "ipython",
    "version": 3
   },
   "file_extension": ".py",
   "mimetype": "text/x-python",
   "name": "python",
   "nbconvert_exporter": "python",
   "pygments_lexer": "ipython3",
   "version": "3.12.7"
  }
 },
 "nbformat": 4,
 "nbformat_minor": 2
}
