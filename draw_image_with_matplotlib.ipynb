{
 "cells": [
  {
   "cell_type": "markdown",
   "id": "9b68c6e5",
   "metadata": {},
   "source": [
    "# Drawing a Cat and Microscope using Matplotlib\n",
    "\n",
    "This notebook aims to recreate the simplified structure of the image containing a cat and a microscope using matplotlib. All drawing code is combined in one cell."
   ]
  },
  {
   "cell_type": "markdown",
   "id": "27469d5a",
   "metadata": {},
   "source": [
    "## Import Libraries\n",
    "\n",
    "We will use matplotlib to draw the shapes."
   ]
  },
  {
   "cell_type": "code",
   "execution_count": 1,
   "id": "050539a7",
   "metadata": {
    "execution": {
     "iopub.execute_input": "2024-10-23T14:13:56.020551Z",
     "iopub.status.busy": "2024-10-23T14:13:56.020094Z",
     "iopub.status.idle": "2024-10-23T14:13:56.875223Z",
     "shell.execute_reply": "2024-10-23T14:13:56.874515Z"
    }
   },
   "outputs": [],
   "source": [
    "import matplotlib.pyplot as plt\n",
    "import matplotlib.patches as patches"
   ]
  },
  {
   "cell_type": "markdown",
   "id": "dd64c189",
   "metadata": {},
   "source": [
    "## Draw the Cat and Microscope\n",
    "\n",
    "Create a matplotlib figure and axis, then use different shapes to represent a cat and a microscope."
   ]
  },
  {
   "cell_type": "code",
   "execution_count": 2,
   "id": "a6e2884b",
   "metadata": {
    "execution": {
     "iopub.execute_input": "2024-10-23T14:13:56.877560Z",
     "iopub.status.busy": "2024-10-23T14:13:56.877287Z",
     "iopub.status.idle": "2024-10-23T14:13:57.012156Z",
     "shell.execute_reply": "2024-10-23T14:13:57.011596Z"
    }
   },
   "outputs": [
    {
     "data": {
      "image/png": "[encoded data removed]",
      "text/plain": [
       "<Figure size 800x600 with 1 Axes>"
      ]
     },
     "metadata": {},
     "output_type": "display_data"
    }
   ],
   "source": [
    "fig, ax = plt.subplots(figsize=(8, 6))\n",
    "ax.set_xlim(0, 10)\n",
    "ax.set_ylim(0, 10)\n",
    "ax.set_aspect('equal')\n",
    "ax.axis('off')\n",
    "\n",
    "# Draw the microscope\n",
    "microscope_base = patches.Rectangle((2, 1), 1, 0.5, color='black')\n",
    "microscope_body = patches.Rectangle((2.5, 1.5), 0.2, 3, color='grey')\n",
    "microscope_eyepiece = patches.Circle((2.6, 4.7), 0.15, color='black')\n",
    "ax.add_patch(microscope_base)\n",
    "ax.add_patch(microscope_body)\n",
    "ax.add_patch(microscope_eyepiece)\n",
    "\n",
    "# Draw the cat\n",
    "cat_body = patches.Circle((7, 4), 1, color='black', ec='white')\n",
    "cat_head = patches.Circle((7, 5.5), 0.5, color='black', ec='white')\n",
    "ax.add_patch(cat_body)\n",
    "ax.add_patch(cat_head)\n",
    "\n",
    "# Save and show the image\n",
    "plt.savefig('cat_and_microscope.png', bbox_inches='tight', dpi=300)\n",
    "plt.show()"
   ]
  }
 ],
 "metadata": {
  "language_info": {
   "codemirror_mode": {
    "name": "ipython",
    "version": 3
   },
   "file_extension": ".py",
   "mimetype": "text/x-python",
   "name": "python",
   "nbconvert_exporter": "python",
   "pygments_lexer": "ipython3",
   "version": "3.12.7"
  }
 },
 "nbformat": 4,
 "nbformat_minor": 5
}
