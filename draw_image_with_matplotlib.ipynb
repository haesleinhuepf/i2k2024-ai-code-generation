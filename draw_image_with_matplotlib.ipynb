{
 "cells": [
  {
   "cell_type": "markdown",
   "id": "6c5a9831",
   "metadata": {},
   "source": [
    "# Drawing a Cat and Microscope using Matplotlib\n",
    "\n",
    "This notebook aims to recreate the simplified structure of the image containing a cat and a microscope using matplotlib."
   ]
  },
  {
   "cell_type": "markdown",
   "id": "e14cae69",
   "metadata": {},
   "source": [
    "## Import Libraries\n",
    "\n",
    "We will use matplotlib to draw the shapes."
   ]
  },
  {
   "cell_type": "code",
   "execution_count": 1,
   "id": "ca8b82e1",
   "metadata": {
    "execution": {
     "iopub.execute_input": "2024-10-23T14:04:35.971958Z",
     "iopub.status.busy": "2024-10-23T14:04:35.971772Z",
     "iopub.status.idle": "2024-10-23T14:04:36.688825Z",
     "shell.execute_reply": "2024-10-23T14:04:36.688301Z"
    }
   },
   "outputs": [],
   "source": [
    "import matplotlib.pyplot as plt\n",
    "import matplotlib.patches as patches\n",
    "import numpy as np"
   ]
  },
  {
   "cell_type": "markdown",
   "id": "6afddab2",
   "metadata": {},
   "source": [
    "## Set up the Figure\n",
    "\n",
    "Create a matplotlib figure and axis to draw upon."
   ]
  },
  {
   "cell_type": "code",
   "execution_count": 2,
   "id": "a801ad37",
   "metadata": {
    "execution": {
     "iopub.execute_input": "2024-10-23T14:04:36.691022Z",
     "iopub.status.busy": "2024-10-23T14:04:36.690736Z",
     "iopub.status.idle": "2024-10-23T14:04:36.730622Z",
     "shell.execute_reply": "2024-10-23T14:04:36.730031Z"
    }
   },
   "outputs": [
    {
     "data": {
      "text/plain": [
       "(np.float64(0.0), np.float64(10.0), np.float64(0.0), np.float64(10.0))"
      ]
     },
     "execution_count": 2,
     "metadata": {},
     "output_type": "execute_result"
    },
    {
     "data": {
      "image/png": "[encoded data removed]",
      "text/plain": [
       "<Figure size 800x600 with 1 Axes>"
      ]
     },
     "metadata": {},
     "output_type": "display_data"
    }
   ],
   "source": [
    "fig, ax = plt.subplots(figsize=(8, 6))\n",
    "ax.set_xlim(0, 10)\n",
    "ax.set_ylim(0, 10)\n",
    "ax.set_aspect('equal')\n",
    "ax.axis('off')"
   ]
  },
  {
   "cell_type": "markdown",
   "id": "3d56470c",
   "metadata": {},
   "source": [
    "## Draw the Microscope\n",
    "\n",
    "Use rectangles and circles to sketch the microscope."
   ]
  },
  {
   "cell_type": "code",
   "execution_count": 3,
   "id": "74b32ed3",
   "metadata": {
    "execution": {
     "iopub.execute_input": "2024-10-23T14:04:36.732552Z",
     "iopub.status.busy": "2024-10-23T14:04:36.732214Z",
     "iopub.status.idle": "2024-10-23T14:04:36.741843Z",
     "shell.execute_reply": "2024-10-23T14:04:36.741233Z"
    }
   },
   "outputs": [
    {
     "data": {
      "text/plain": [
       "<matplotlib.patches.Circle at 0x7fda7ec1ea50>"
      ]
     },
     "execution_count": 3,
     "metadata": {},
     "output_type": "execute_result"
    }
   ],
   "source": [
    "microscope_base = patches.Rectangle((2, 1), 1, 0.5, color='black')\n",
    "microscope_body = patches.Rectangle((2.5, 1.5), 0.2, 3, color='grey')\n",
    "microscope_eyepiece = patches.Circle((2.6, 4.7), 0.15, color='black')\n",
    "\n",
    "ax.add_patch(microscope_base)\n",
    "ax.add_patch(microscope_body)\n",
    "ax.add_patch(microscope_eyepiece)"
   ]
  },
  {
   "cell_type": "markdown",
   "id": "111d88c1",
   "metadata": {},
   "source": [
    "## Draw the Cat\n",
    "\n",
    "Use a circle to represent the cat's body and a smaller circle for the head."
   ]
  },
  {
   "cell_type": "code",
   "execution_count": 4,
   "id": "6f178215",
   "metadata": {
    "execution": {
     "iopub.execute_input": "2024-10-23T14:04:36.743704Z",
     "iopub.status.busy": "2024-10-23T14:04:36.743382Z",
     "iopub.status.idle": "2024-10-23T14:04:36.753841Z",
     "shell.execute_reply": "2024-10-23T14:04:36.753373Z"
    }
   },
   "outputs": [
    {
     "data": {
      "text/plain": [
       "<matplotlib.patches.Circle at 0x7fda7ec69e20>"
      ]
     },
     "execution_count": 4,
     "metadata": {},
     "output_type": "execute_result"
    }
   ],
   "source": [
    "cat_body = patches.Circle((7, 4), 1, color='black', ec='white')\n",
    "cat_head = patches.Circle((7, 5.5), 0.5, color='black', ec='white')\n",
    "\n",
    "ax.add_patch(cat_body)\n",
    "ax.add_patch(cat_head)"
   ]
  },
  {
   "cell_type": "markdown",
   "id": "d7680a9e",
   "metadata": {},
   "source": [
    "## Save the Image\n",
    "\n",
    "Export the drawing to a PNG file."
   ]
  },
  {
   "cell_type": "code",
   "execution_count": 5,
   "id": "ffad1993",
   "metadata": {
    "execution": {
     "iopub.execute_input": "2024-10-23T14:04:36.755747Z",
     "iopub.status.busy": "2024-10-23T14:04:36.755388Z",
     "iopub.status.idle": "2024-10-23T14:04:36.853843Z",
     "shell.execute_reply": "2024-10-23T14:04:36.853297Z"
    }
   },
   "outputs": [
    {
     "data": {
      "text/plain": [
       "<Figure size 640x480 with 0 Axes>"
      ]
     },
     "metadata": {},
     "output_type": "display_data"
    }
   ],
   "source": [
    "plt.savefig('cat_and_microscope.png', bbox_inches='tight', dpi=300)"
   ]
  }
 ],
 "metadata": {
  "language_info": {
   "codemirror_mode": {
    "name": "ipython",
    "version": 3
   },
   "file_extension": ".py",
   "mimetype": "text/x-python",
   "name": "python",
   "nbconvert_exporter": "python",
   "pygments_lexer": "ipython3",
   "version": "3.12.7"
  }
 },
 "nbformat": 4,
 "nbformat_minor": 5
}
